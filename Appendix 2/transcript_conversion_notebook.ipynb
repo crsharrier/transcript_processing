{
 "cells": [
  {
   "attachments": {},
   "cell_type": "markdown",
   "metadata": {},
   "source": [
    "### Gaslighting - Transcript Processing & Data Collection\n",
    "_____________________________"
   ]
  },
  {
   "attachments": {},
   "cell_type": "markdown",
   "metadata": {},
   "source": [
    "This is the notebook I used to process all transcripts. You will find data for all four primary transcripts, plus one extra which I transcribed, but decided not to use for the most part. This is the conversation with Munroe Bergdorf, as the presence of a third speaker in the conversation complicated things slightly.\n"
   ]
  },
  {
   "cell_type": "code",
   "execution_count": 1,
   "metadata": {},
   "outputs": [],
   "source": [
    "#import libraries and scripts\n",
    "import pandas as pd\n",
    "import numpy as np\n",
    "import matplotlib as plt\n",
    "import os\n",
    "from Python.tr_init import *\n",
    "from Python.tr_class import *\n",
    "from Python.tr_overlap import *\n",
    "from Python.tr_tag import *"
   ]
  },
  {
   "cell_type": "code",
   "execution_count": 2,
   "metadata": {},
   "outputs": [],
   "source": [
    "#append names of txt files in txt/ dir to txt_list\n",
    "txt_directory = './txt/'\n",
    "tagged_directory = './tagged/'\n",
    "txt_list = []\n",
    "\n",
    "for file in os.listdir(txt_directory):\n",
    "     filename = os.fsdecode(file)\n",
    "     txt_list.append(os.path.join(txt_directory, filename))\n"
   ]
  },
  {
   "cell_type": "code",
   "execution_count": 3,
   "metadata": {},
   "outputs": [],
   "source": [
    "#define write_latex function\n",
    "\n",
    "#write new file, given a transcript class instance and destination directory\n",
    "def write_latex(transcript, directory):\n",
    "    tagged_file = transcript.path[6:-4] + '_tagged.txt'\n",
    "    destination = directory + tagged_file\n",
    "    with open(destination, 'w') as f:\n",
    "        for line in transcript.new_lines:\n",
    "            f.write(line)\n",
    "            f.write('\\n')\n",
    "   "
   ]
  },
  {
   "cell_type": "code",
   "execution_count": 4,
   "metadata": {},
   "outputs": [
    {
     "name": "stdout",
     "output_type": "stream",
     "text": [
      "Transcript class instance name =  andrew_1\n",
      "Transcript class instance name =  andrew_2\n",
      "Transcript class instance name =  janet\n",
      "Transcript class instance name =  munroe\n",
      "Transcript class instance name =  transcript_test_file\n",
      "Transcript class instance name =  trisha\n"
     ]
    }
   ],
   "source": [
    "#create transcript class instance & write_latex for each interview\n",
    "tr_list = []\n",
    "for txt_path in txt_list:\n",
    "    #parse name from path and create class instance\n",
    "    transcript_name = txt_path[6:-4]\n",
    "    tr_class = Transcript(txt_path)\n",
    "    #add to local variables and append to tr_class_list\n",
    "    locals()[transcript_name] = tr_class\n",
    "    if transcript_name != 'transcript_test_file':\n",
    "        tr_list.append(tr_class)\n",
    "    #process class instance\n",
    "    init_routine(tr_class)\n",
    "    overlap_routine(tr_class)\n",
    "    tag_routine(tr_class)\n",
    "    tr_class.create_df()\n",
    "\n",
    "    #append line numbers to match transcript\n",
    "    tr_class.line_number = [0] * len(tr_class.new_lines)\n",
    "    i = 1\n",
    "    for j in range(0, len(tr_class.new_lines)):\n",
    "        if tr_class.new_lines[j] != '\\medskip':\n",
    "            tr_class.line_number[j] = i\n",
    "            i += 1\n",
    "    \n",
    "    write_latex(tr_class, tagged_directory)\n",
    "    print(\"Transcript class instance name = \", transcript_name)\n"
   ]
  },
  {
   "cell_type": "code",
   "execution_count": 5,
   "metadata": {},
   "outputs": [
    {
     "name": "stdout",
     "output_type": "stream",
     "text": [
      "No parse errors found\n"
     ]
    }
   ],
   "source": [
    "#check for errors in t.transcript_df[overlap_type]\n",
    "\n",
    "err_found = 0\n",
    "for tr in tr_list:\n",
    "    for i in range(0, len(tr.overlap_list)):\n",
    "        if tr.overlap_list[i]:\n",
    "            for type in tr.overlap_list[i]:\n",
    "                if type == 'error':\n",
    "                    err_found = 1\n",
    "                    print('parse error found: ', tr.path, \"line no.\", i + 2)\n",
    "if not err_found:\n",
    "    print(\"No parse errors found\")"
   ]
  },
  {
   "cell_type": "code",
   "execution_count": 6,
   "metadata": {},
   "outputs": [
    {
     "name": "stdout",
     "output_type": "stream",
     "text": [
      "Examples where overlapped occurs immediately before interruption_unsucc :\n",
      "./txt/andrew_1.txt line = 290\n",
      "./txt/andrew_2.txt line = 367\n",
      "./txt/andrew_2.txt line = 382\n",
      "./txt/janet.txt line = 179\n",
      "./txt/janet.txt line = 181\n",
      "./txt/janet.txt line = 188\n",
      "./txt/janet.txt line = 227\n",
      "./txt/munroe.txt line = 62\n",
      "./txt/munroe.txt line = 241\n",
      "./txt/munroe.txt line = 318\n",
      "./txt/trisha.txt line = 60\n",
      "./txt/trisha.txt line = 66\n",
      "./txt/trisha.txt line = 102\n",
      "./txt/trisha.txt line = 134\n",
      "./txt/trisha.txt line = 164\n"
     ]
    }
   ],
   "source": [
    "#search for two interruption types occuring on consecutive lines\n",
    "type1 = 'overlapped'\n",
    "type2 = 'interruption_unsucc'\n",
    "\n",
    "print('Examples where', type1, 'occurs immediately before', type2, ':')\n",
    "for tr in tr_list:\n",
    "    for i in range(0, len(tr.overlap_list) - 2):\n",
    "        if tr.overlap_list[i] and tr.overlap_list[i][-1] == type1:\n",
    "            if tr.overlap_list[i + 2] and tr.overlap_list[i + 2][0] == type2:\n",
    "                print(tr.path, 'line =', tr.line_number[i])\n"
   ]
  },
  {
   "cell_type": "code",
   "execution_count": 7,
   "metadata": {},
   "outputs": [
    {
     "data": {
      "text/html": [
       "<div>\n",
       "<style scoped>\n",
       "    .dataframe tbody tr th:only-of-type {\n",
       "        vertical-align: middle;\n",
       "    }\n",
       "\n",
       "    .dataframe tbody tr th {\n",
       "        vertical-align: top;\n",
       "    }\n",
       "\n",
       "    .dataframe thead th {\n",
       "        text-align: right;\n",
       "    }\n",
       "</style>\n",
       "<table border=\"1\" class=\"dataframe\">\n",
       "  <thead>\n",
       "    <tr style=\"text-align: right;\">\n",
       "      <th></th>\n",
       "      <th>Piers</th>\n",
       "      <th>Andrew</th>\n",
       "    </tr>\n",
       "  </thead>\n",
       "  <tbody>\n",
       "    <tr>\n",
       "      <th>interrupted_succ</th>\n",
       "      <td>9</td>\n",
       "      <td>29</td>\n",
       "    </tr>\n",
       "    <tr>\n",
       "      <th>interrupted_unsucc</th>\n",
       "      <td>4</td>\n",
       "      <td>25</td>\n",
       "    </tr>\n",
       "    <tr>\n",
       "      <th>overlapped</th>\n",
       "      <td>11</td>\n",
       "      <td>19</td>\n",
       "    </tr>\n",
       "    <tr>\n",
       "      <th>interruption_succ</th>\n",
       "      <td>27</td>\n",
       "      <td>4</td>\n",
       "    </tr>\n",
       "    <tr>\n",
       "      <th>interruption_unsucc</th>\n",
       "      <td>22</td>\n",
       "      <td>7</td>\n",
       "    </tr>\n",
       "    <tr>\n",
       "      <th>overlap</th>\n",
       "      <td>16</td>\n",
       "      <td>9</td>\n",
       "    </tr>\n",
       "    <tr>\n",
       "      <th>minimal_response</th>\n",
       "      <td>25</td>\n",
       "      <td>18</td>\n",
       "    </tr>\n",
       "    <tr>\n",
       "      <th>word_count</th>\n",
       "      <td>1571</td>\n",
       "      <td>2316</td>\n",
       "    </tr>\n",
       "    <tr>\n",
       "      <th>words_%</th>\n",
       "      <td>40</td>\n",
       "      <td>59</td>\n",
       "    </tr>\n",
       "  </tbody>\n",
       "</table>\n",
       "</div>"
      ],
      "text/plain": [
       "                     Piers  Andrew\n",
       "interrupted_succ         9      29\n",
       "interrupted_unsucc       4      25\n",
       "overlapped              11      19\n",
       "interruption_succ       27       4\n",
       "interruption_unsucc     22       7\n",
       "overlap                 16       9\n",
       "minimal_response        25      18\n",
       "word_count            1571    2316\n",
       "words_%                 40      59"
      ]
     },
     "metadata": {},
     "output_type": "display_data"
    }
   ],
   "source": [
    "#use this cell to display transcript_df or features_df\n",
    "\n",
    "pd.options.display.max_rows = 999\n",
    "pd.options.display.max_colwidth = 80\n",
    "\n",
    "display(andrew_2.features_df)\n",
    "#display(andrew_2.transcript_df)"
   ]
  },
  {
   "cell_type": "code",
   "execution_count": 9,
   "metadata": {},
   "outputs": [
    {
     "name": "stdout",
     "output_type": "stream",
     "text": [
      "For the transcript: ./txt/andrew_1.txt\n",
      "Percentage of times Piers yields when interrupted =\t 41.7\n",
      "Piers' success rate percentage when interrupting =\t 85.3\n",
      "\n",
      "For the transcript: ./txt/andrew_2.txt\n",
      "Percentage of times Piers yields when interrupted =\t 69.2\n",
      "Piers' success rate percentage when interrupting =\t 55.1\n",
      "\n",
      "For the transcript: ./txt/janet.txt\n",
      "Percentage of times Piers yields when interrupted =\t 65.0\n",
      "Piers' success rate percentage when interrupting =\t 20.8\n",
      "\n",
      "For the transcript: ./txt/munroe.txt\n",
      "Percentage of times Piers yields when interrupted =\t 57.6\n",
      "Piers' success rate percentage when interrupting =\t 60.0\n",
      "\n",
      "For the transcript: ./txt/trisha.txt\n",
      "Percentage of times Piers yields when interrupted =\t 33.3\n",
      "Piers' success rate percentage when interrupting =\t 60.9\n",
      "\n",
      "Aggregate of both Andrew excerpts:\n",
      "Percentage of times Piers yields when interrupted =\t 55.45\n",
      "Piers' success rate percentage when interrupting =\t 55.1\n"
     ]
    }
   ],
   "source": [
    "for tr in tr_list: \n",
    "    #tr.interrupting_behaviour = {}\n",
    "    tr.interrupting_behaviour = {\n",
    "        'piers_yield_rate': np.round_((tr.features['Piers']['interrupted_succ'] / (tr.features['Piers']['interrupted_succ'] + tr.features['Piers']['interrupted_unsucc'])) * 100, 1),\n",
    "        'piers_interrupt_success': np.round_((tr.features['Piers']['interruption_succ'] / (tr.features['Piers']['interruption_succ'] + tr.features['Piers']['interruption_unsucc'])) * 100, 1)\n",
    "    }\n",
    "    print('For the transcript:', tr.path)\n",
    "    print('Percentage of times Piers yields when interrupted =\\t', tr.interrupting_behaviour['piers_yield_rate'])\n",
    "    print('Piers\\' success rate percentage when interrupting =\\t', tr.interrupting_behaviour['piers_interrupt_success'])\n",
    "    print('')\n",
    "\n",
    "\n",
    "andrew_agg = {\n",
    "    'piers_yield_rate': (andrew_1.interrupting_behaviour['piers_yield_rate'] + andrew_2.interrupting_behaviour['piers_yield_rate']) / 2,\n",
    "    'piers_interrupt_success': (andrew_2.interrupting_behaviour['piers_interrupt_success'] + andrew_2.interrupting_behaviour['piers_interrupt_success']) / 2\n",
    "}\n",
    "print('Aggregate of both Andrew excerpts:')\n",
    "print('Percentage of times Piers yields when interrupted =\\t', andrew_agg['piers_yield_rate'])\n",
    "print('Piers\\' success rate percentage when interrupting =\\t', andrew_agg['piers_interrupt_success'])\n"
   ]
  }
 ],
 "metadata": {
  "kernelspec": {
   "display_name": "skydiver",
   "language": "python",
   "name": "python3"
  },
  "language_info": {
   "codemirror_mode": {
    "name": "ipython",
    "version": 3
   },
   "file_extension": ".py",
   "mimetype": "text/x-python",
   "name": "python",
   "nbconvert_exporter": "python",
   "pygments_lexer": "ipython3",
   "version": "3.10.4"
  },
  "orig_nbformat": 4
 },
 "nbformat": 4,
 "nbformat_minor": 2
}
